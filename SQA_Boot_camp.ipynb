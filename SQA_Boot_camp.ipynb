{
  "nbformat": 4,
  "nbformat_minor": 0,
  "metadata": {
    "colab": {
      "name": "SQA_Boot_camp.ipynb",
      "provenance": [],
      "collapsed_sections": [],
      "authorship_tag": "ABX9TyMate4qeFLu68SpwmqmeYxs",
      "include_colab_link": true
    },
    "kernelspec": {
      "name": "python3",
      "display_name": "Python 3"
    },
    "language_info": {
      "name": "python"
    }
  },
  "cells": [
    {
      "cell_type": "markdown",
      "metadata": {
        "id": "view-in-github",
        "colab_type": "text"
      },
      "source": [
        "<a href=\"https://colab.research.google.com/github/imymalik/sqa_boot_camp/blob/main/SQA_Boot_camp.ipynb\" target=\"_parent\"><img src=\"https://colab.research.google.com/assets/colab-badge.svg\" alt=\"Open In Colab\"/></a>"
      ]
    },
    {
      "cell_type": "code",
      "execution_count": null,
      "metadata": {
        "colab": {
          "base_uri": "https://localhost:8080/"
        },
        "id": "kowO21gCLJq-",
        "outputId": "d71974c4-c9c6-4967-fa60-3aeefbfaad3b"
      },
      "outputs": [
        {
          "output_type": "stream",
          "name": "stdout",
          "text": [
            "42\n"
          ]
        }
      ],
      "source": [
        "print((3+4)*6)"
      ]
    },
    {
      "cell_type": "code",
      "source": [
        "message = 'Hello Python World'\n",
        "\n"
      ],
      "metadata": {
        "colab": {
          "base_uri": "https://localhost:8080/"
        },
        "id": "_H6vtN-AObiA",
        "outputId": "fcba99a2-9c8d-48ed-f049-8a9eea72a544"
      },
      "execution_count": null,
      "outputs": [
        {
          "output_type": "stream",
          "name": "stdout",
          "text": [
            "Hello Python World\n"
          ]
        }
      ]
    },
    {
      "cell_type": "code",
      "source": [
        "message = \"This is new message\"\n"
      ],
      "metadata": {
        "id": "kl3dmfO0RcFw"
      },
      "execution_count": null,
      "outputs": []
    },
    {
      "cell_type": "code",
      "source": [
        "print(message)"
      ],
      "metadata": {
        "colab": {
          "base_uri": "https://localhost:8080/"
        },
        "id": "2aEL2WTpSFPv",
        "outputId": "5b62858d-f5f6-4cbe-e16e-4f3ceb7773c7"
      },
      "execution_count": null,
      "outputs": [
        {
          "output_type": "stream",
          "name": "stdout",
          "text": [
            "This is new message\n"
          ]
        }
      ]
    },
    {
      "cell_type": "code",
      "source": [
        "first_name = \"test\"\n",
        "print(first_name)\n",
        "print(first_name.title())"
      ],
      "metadata": {
        "colab": {
          "base_uri": "https://localhost:8080/"
        },
        "id": "xfRxm8wASWb0",
        "outputId": "c17caa5a-777a-47c9-cfc9-ec4d35cebd3d"
      },
      "execution_count": null,
      "outputs": [
        {
          "output_type": "stream",
          "name": "stdout",
          "text": [
            "test\n",
            "Test\n"
          ]
        }
      ]
    },
    {
      "cell_type": "code",
      "source": [
        "print(first_name.upper())"
      ],
      "metadata": {
        "colab": {
          "base_uri": "https://localhost:8080/"
        },
        "id": "vV7W46hzT8VL",
        "outputId": "48de3ba9-f11d-4dfc-8cc3-aa4b597deb8c"
      },
      "execution_count": null,
      "outputs": [
        {
          "output_type": "stream",
          "name": "stdout",
          "text": [
            "TEST\n"
          ]
        }
      ]
    },
    {
      "cell_type": "code",
      "source": [
        "first_name_caps = first_name.upper()\n",
        "print(first_name_caps)"
      ],
      "metadata": {
        "colab": {
          "base_uri": "https://localhost:8080/"
        },
        "id": "rtEPkHZqUbrP",
        "outputId": "a1bf5d08-fac8-4494-9b0e-4a581d82b1d9"
      },
      "execution_count": null,
      "outputs": [
        {
          "output_type": "stream",
          "name": "stdout",
          "text": [
            "TEST\n"
          ]
        }
      ]
    },
    {
      "cell_type": "code",
      "source": [
        "print(type(first_name))"
      ],
      "metadata": {
        "colab": {
          "base_uri": "https://localhost:8080/"
        },
        "id": "ZsBiP8KrVDIQ",
        "outputId": "1636d2ee-22e4-419d-cfd4-14ccf3b40467"
      },
      "execution_count": null,
      "outputs": [
        {
          "output_type": "stream",
          "name": "stdout",
          "text": [
            "<class 'str'>\n"
          ]
        }
      ]
    },
    {
      "cell_type": "code",
      "source": [
        "print(first_name_caps.lower())"
      ],
      "metadata": {
        "colab": {
          "base_uri": "https://localhost:8080/"
        },
        "id": "h7MN8rQ3VW0y",
        "outputId": "4b328d97-6b1d-4dbd-9a97-dbbca2e69f87"
      },
      "execution_count": null,
      "outputs": [
        {
          "output_type": "stream",
          "name": "stdout",
          "text": [
            "test\n"
          ]
        }
      ]
    },
    {
      "cell_type": "code",
      "source": [
        "first_name =\"Ada\"\n",
        "last_name = \"\\n\\\" lovelace \\\"\"\n",
        "full_name = first_name + ' ' +last_name\n",
        "print(full_name)"
      ],
      "metadata": {
        "colab": {
          "base_uri": "https://localhost:8080/"
        },
        "id": "jaPR5OPgVtAz",
        "outputId": "edfb0d5d-3355-4e72-e1f6-124a8de4e79b"
      },
      "execution_count": null,
      "outputs": [
        {
          "output_type": "stream",
          "name": "stdout",
          "text": [
            "Ada \n",
            "\" lovelace \"\n"
          ]
        }
      ]
    },
    {
      "cell_type": "code",
      "source": [
        "full_name = ' testing '\n",
        "full_name.lstrip()"
      ],
      "metadata": {
        "colab": {
          "base_uri": "https://localhost:8080/",
          "height": 35
        },
        "id": "-MVhiYGpZQXJ",
        "outputId": "f9540cf2-6a23-41dd-d518-c118e5d7e160"
      },
      "execution_count": null,
      "outputs": [
        {
          "output_type": "execute_result",
          "data": {
            "text/plain": [
              "'testing '"
            ],
            "application/vnd.google.colaboratory.intrinsic+json": {
              "type": "string"
            }
          },
          "metadata": {},
          "execution_count": 46
        }
      ]
    },
    {
      "cell_type": "code",
      "source": [
        ""
      ],
      "metadata": {
        "id": "wcxzBuashJLP"
      },
      "execution_count": null,
      "outputs": []
    },
    {
      "cell_type": "code",
      "source": [
        "ful_name = 'testing '\n",
        "ful_name.rstrip()"
      ],
      "metadata": {
        "colab": {
          "base_uri": "https://localhost:8080/",
          "height": 35
        },
        "id": "Fl4ZZmZgajZ7",
        "outputId": "83804176-cd1c-462b-93d7-dec5b1ce2100"
      },
      "execution_count": null,
      "outputs": [
        {
          "output_type": "execute_result",
          "data": {
            "text/plain": [
              "'testing'"
            ],
            "application/vnd.google.colaboratory.intrinsic+json": {
              "type": "string"
            }
          },
          "metadata": {},
          "execution_count": 45
        }
      ]
    },
    {
      "cell_type": "code",
      "source": [
        "new_full_name = ' testing '\n",
        "new_full_name.strip().title()"
      ],
      "metadata": {
        "colab": {
          "base_uri": "https://localhost:8080/",
          "height": 35
        },
        "id": "4byj9R4fawbS",
        "outputId": "b0ca193d-38f9-43be-c857-500ae935251b"
      },
      "execution_count": null,
      "outputs": [
        {
          "output_type": "execute_result",
          "data": {
            "text/plain": [
              "'Testing'"
            ],
            "application/vnd.google.colaboratory.intrinsic+json": {
              "type": "string"
            }
          },
          "metadata": {},
          "execution_count": 44
        }
      ]
    },
    {
      "cell_type": "code",
      "source": [
        "qoute = \"\\\"Ken Thompson once said, 'One of my most productive days was throwing away 1000 lines of code'\\\"\"\n",
        "print(qoute)"
      ],
      "metadata": {
        "colab": {
          "base_uri": "https://localhost:8080/"
        },
        "id": "UxDkkZcrhXfc",
        "outputId": "fed92b23-ca62-497c-d5d8-e4990a53c76e"
      },
      "execution_count": null,
      "outputs": [
        {
          "output_type": "stream",
          "name": "stdout",
          "text": [
            "\"Ken Thompson once said, 'One of my most productive days was throwing away 1000 lines of code'\"\n"
          ]
        }
      ]
    },
    {
      "cell_type": "code",
      "source": [
        "first_name = \"Muhammad\"\n",
        "first_name = first_name.lower()\n",
        "print(first_name)"
      ],
      "metadata": {
        "colab": {
          "base_uri": "https://localhost:8080/"
        },
        "id": "T6cGhAttiBby",
        "outputId": "3a2ce31f-63c3-432d-df35-bc4ff5efc197"
      },
      "execution_count": null,
      "outputs": [
        {
          "output_type": "stream",
          "name": "stdout",
          "text": [
            "muhammad\n"
          ]
        }
      ]
    },
    {
      "cell_type": "code",
      "source": [
        "first_name = first_name.title()\n",
        "print(first_name)"
      ],
      "metadata": {
        "colab": {
          "base_uri": "https://localhost:8080/"
        },
        "id": "__Gv9INuimFx",
        "outputId": "25953794-d1bb-424e-a981-4dd2ddcf8b86"
      },
      "execution_count": null,
      "outputs": [
        {
          "output_type": "stream",
          "name": "stdout",
          "text": [
            "Muhammad\n"
          ]
        }
      ]
    },
    {
      "cell_type": "code",
      "source": [
        "first_name = first_name.upper()\n",
        "print(first_name)\n"
      ],
      "metadata": {
        "colab": {
          "base_uri": "https://localhost:8080/"
        },
        "id": "NH95Vcmsi4jG",
        "outputId": "a8d9fea6-718a-4c0b-b26c-94f2742e6797"
      },
      "execution_count": null,
      "outputs": [
        {
          "output_type": "stream",
          "name": "stdout",
          "text": [
            "MUHAMMAD\n"
          ]
        }
      ]
    },
    {
      "cell_type": "code",
      "source": [
        "first_name = \"Muhammad\"\n",
        "last_name = \"Imran\"\n",
        "full_name = first_name + ' '+ last_name\n",
        "print(full_name)"
      ],
      "metadata": {
        "colab": {
          "base_uri": "https://localhost:8080/"
        },
        "id": "g0Nu0onFjH8L",
        "outputId": "62bdd333-cc87-4947-f0d9-a7c60e4ce097"
      },
      "execution_count": null,
      "outputs": [
        {
          "output_type": "stream",
          "name": "stdout",
          "text": [
            "Muhammad Imran\n"
          ]
        }
      ]
    },
    {
      "cell_type": "code",
      "source": [
        "first_name = \"Hazrat\"\n",
        "last_name = \"Muhammad\"\n",
        "make_line_about = \"is our holy Prophet(PBUH)\"\n",
        "sentance = first_name +' '+last_name+' '+make_line_about\n",
        "print(sentance)"
      ],
      "metadata": {
        "colab": {
          "base_uri": "https://localhost:8080/"
        },
        "id": "_2RMW9xQjlgg",
        "outputId": "dd15f664-9e77-4e62-e88e-8ccad2d06421"
      },
      "execution_count": null,
      "outputs": [
        {
          "output_type": "stream",
          "name": "stdout",
          "text": [
            "Hazrt Muhammad are Our holy Prophet(PBUH)\n"
          ]
        }
      ]
    },
    {
      "cell_type": "code",
      "source": [
        "first_name = \" Muhammad \"\n",
        "first_name"
      ],
      "metadata": {
        "colab": {
          "base_uri": "https://localhost:8080/",
          "height": 35
        },
        "id": "fUZ04xyxkbwL",
        "outputId": "67b2ad80-09ab-4188-d5c3-bd3cc58a51c6"
      },
      "execution_count": null,
      "outputs": [
        {
          "output_type": "execute_result",
          "data": {
            "text/plain": [
              "' Muhammad '"
            ],
            "application/vnd.google.colaboratory.intrinsic+json": {
              "type": "string"
            }
          },
          "metadata": {},
          "execution_count": 56
        }
      ]
    },
    {
      "cell_type": "code",
      "source": [
        "first_name.lstrip()"
      ],
      "metadata": {
        "colab": {
          "base_uri": "https://localhost:8080/",
          "height": 35
        },
        "id": "J7ZaPgK1ky8A",
        "outputId": "98abf1cf-5362-4639-8130-25ba519469ca"
      },
      "execution_count": null,
      "outputs": [
        {
          "output_type": "execute_result",
          "data": {
            "text/plain": [
              "'Muhammad '"
            ],
            "application/vnd.google.colaboratory.intrinsic+json": {
              "type": "string"
            }
          },
          "metadata": {},
          "execution_count": 57
        }
      ]
    },
    {
      "cell_type": "code",
      "source": [
        "first_name.rstrip()"
      ],
      "metadata": {
        "colab": {
          "base_uri": "https://localhost:8080/",
          "height": 35
        },
        "id": "_hx0cxRok4qQ",
        "outputId": "e83dba6f-ea7e-47f0-bd3c-ca8a2c4bd986"
      },
      "execution_count": null,
      "outputs": [
        {
          "output_type": "execute_result",
          "data": {
            "text/plain": [
              "' Muhammad'"
            ],
            "application/vnd.google.colaboratory.intrinsic+json": {
              "type": "string"
            }
          },
          "metadata": {},
          "execution_count": 58
        }
      ]
    },
    {
      "cell_type": "code",
      "source": [
        "first_name.strip()"
      ],
      "metadata": {
        "colab": {
          "base_uri": "https://localhost:8080/",
          "height": 35
        },
        "id": "GVhaVkqvk9BW",
        "outputId": "bfb8b9b7-0783-4eaa-9605-6a9f0a4cd9c1"
      },
      "execution_count": null,
      "outputs": [
        {
          "output_type": "execute_result",
          "data": {
            "text/plain": [
              "'Muhammad'"
            ],
            "application/vnd.google.colaboratory.intrinsic+json": {
              "type": "string"
            }
          },
          "metadata": {},
          "execution_count": 59
        }
      ]
    },
    {
      "cell_type": "code",
      "source": [
        "print(first_name, end ='')\n",
        "print(last_name)"
      ],
      "metadata": {
        "colab": {
          "base_uri": "https://localhost:8080/"
        },
        "id": "Jjg1BZcnlp2U",
        "outputId": "163bb6c0-5b3c-432c-fa89-c00009ddef75"
      },
      "execution_count": null,
      "outputs": [
        {
          "output_type": "stream",
          "name": "stdout",
          "text": [
            "Ada\n",
            "\" lovelace \"\n"
          ]
        }
      ]
    },
    {
      "cell_type": "markdown",
      "source": [
        "**Number**"
      ],
      "metadata": {
        "id": "XvvwvgGGNahu"
      }
    },
    {
      "cell_type": "code",
      "source": [
        "print(4+6)"
      ],
      "metadata": {
        "colab": {
          "base_uri": "https://localhost:8080/"
        },
        "id": "-xqfhtKAMrcB",
        "outputId": "82dfae59-f234-49a4-fd22-54dd0a9ff8b6"
      },
      "execution_count": null,
      "outputs": [
        {
          "output_type": "stream",
          "name": "stdout",
          "text": [
            "10\n"
          ]
        }
      ]
    },
    {
      "cell_type": "markdown",
      "source": [
        "print(4*6)"
      ],
      "metadata": {
        "id": "Nta8GUXONpjf"
      }
    },
    {
      "cell_type": "code",
      "source": [
        "print(6/4)"
      ],
      "metadata": {
        "colab": {
          "base_uri": "https://localhost:8080/"
        },
        "id": "6YDaaWGTNul7",
        "outputId": "1837e639-5363-4496-e6e1-73744b5f16f5"
      },
      "execution_count": null,
      "outputs": [
        {
          "output_type": "stream",
          "name": "stdout",
          "text": [
            "1.5\n"
          ]
        }
      ]
    },
    {
      "cell_type": "code",
      "source": [
        "print(3**2)"
      ],
      "metadata": {
        "colab": {
          "base_uri": "https://localhost:8080/"
        },
        "id": "TtLPdVaZN1IP",
        "outputId": "2444ebc0-55d3-4d8c-f513-0d9c7128ff00"
      },
      "execution_count": null,
      "outputs": [
        {
          "output_type": "stream",
          "name": "stdout",
          "text": [
            "9\n"
          ]
        }
      ]
    },
    {
      "cell_type": "code",
      "source": [
        "print(6**6)"
      ],
      "metadata": {
        "colab": {
          "base_uri": "https://localhost:8080/"
        },
        "id": "h97niFHaOEdf",
        "outputId": "74e8d61e-30d2-4c0e-a7ac-57688ad1384c"
      },
      "execution_count": null,
      "outputs": [
        {
          "output_type": "stream",
          "name": "stdout",
          "text": [
            "46656\n"
          ]
        }
      ]
    },
    {
      "cell_type": "code",
      "source": [
        "print(5%4)"
      ],
      "metadata": {
        "colab": {
          "base_uri": "https://localhost:8080/"
        },
        "id": "XG8YUw6iOMFD",
        "outputId": "99d7b49a-565c-4127-a0f8-e586d328012a"
      },
      "execution_count": null,
      "outputs": [
        {
          "output_type": "stream",
          "name": "stdout",
          "text": [
            "1\n"
          ]
        }
      ]
    },
    {
      "cell_type": "code",
      "source": [
        "Standard_order = 2+4*5\n",
        "print(Standard_order)"
      ],
      "metadata": {
        "colab": {
          "base_uri": "https://localhost:8080/"
        },
        "id": "u0YiD04XOni1",
        "outputId": "5373c58a-4482-4acb-ce80-9a16b7aab415"
      },
      "execution_count": null,
      "outputs": [
        {
          "output_type": "stream",
          "name": "stdout",
          "text": [
            "22\n"
          ]
        }
      ]
    },
    {
      "cell_type": "code",
      "source": [
        "print((2+4)*5)"
      ],
      "metadata": {
        "colab": {
          "base_uri": "https://localhost:8080/"
        },
        "id": "ldYZ6eTIPIbr",
        "outputId": "f54ded88-29b5-4630-f5ae-0315e4c94e1b"
      },
      "execution_count": null,
      "outputs": [
        {
          "output_type": "stream",
          "name": "stdout",
          "text": [
            "30\n"
          ]
        }
      ]
    },
    {
      "cell_type": "code",
      "source": [
        "print((4/2)*5)"
      ],
      "metadata": {
        "colab": {
          "base_uri": "https://localhost:8080/"
        },
        "id": "44N1eF3pPP_3",
        "outputId": "de4c1350-463e-41b3-f8e8-9fdcf302fbdb"
      },
      "execution_count": null,
      "outputs": [
        {
          "output_type": "stream",
          "name": "stdout",
          "text": [
            "10.0\n"
          ]
        }
      ]
    },
    {
      "cell_type": "code",
      "source": [
        "print(0.1+0.6)"
      ],
      "metadata": {
        "colab": {
          "base_uri": "https://localhost:8080/"
        },
        "id": "0ZeMu6h1Pt3A",
        "outputId": "48dcd4e2-5841-4eec-9280-3f81437af32b"
      },
      "execution_count": null,
      "outputs": [
        {
          "output_type": "stream",
          "name": "stdout",
          "text": [
            "0.7\n"
          ]
        }
      ]
    },
    {
      "cell_type": "markdown",
      "source": [
        "this is tricky that computers work on only base-2. And we are assuming on base-10. that this result is display."
      ],
      "metadata": {
        "id": "S7W2C94RRK1c"
      }
    },
    {
      "cell_type": "code",
      "source": [
        "print(0.1+0.2)"
      ],
      "metadata": {
        "colab": {
          "base_uri": "https://localhost:8080/"
        },
        "id": "vo1kGqREP1yw",
        "outputId": "4c643ea3-3ace-48eb-9961-f685ed7d1545"
      },
      "execution_count": null,
      "outputs": [
        {
          "output_type": "stream",
          "name": "stdout",
          "text": [
            "0.30000000000000004\n"
          ]
        }
      ]
    },
    {
      "cell_type": "markdown",
      "source": [
        "This is used in complex systems such as X-ray, citiskin etc. So, we try to avoid from this beacause its a computer default."
      ],
      "metadata": {
        "id": "jZHVVPcMR89a"
      }
    },
    {
      "cell_type": "code",
      "source": [
        "print(0.1*0.2)"
      ],
      "metadata": {
        "colab": {
          "base_uri": "https://localhost:8080/"
        },
        "id": "x0F9KmiZQYUC",
        "outputId": "c4a8d4ff-acd3-4e7d-a993-24c34327dd9b"
      },
      "execution_count": null,
      "outputs": [
        {
          "output_type": "stream",
          "name": "stdout",
          "text": [
            "0.020000000000000004\n"
          ]
        }
      ]
    },
    {
      "cell_type": "markdown",
      "source": [
        "Excercise pratice."
      ],
      "metadata": {
        "id": "6upYPSgmSwt3"
      }
    },
    {
      "cell_type": "code",
      "source": [
        "first_number = 123\n",
        "second_number = 321\n",
        "addition_result = first_number + second_number\n",
        "print(addition_result)"
      ],
      "metadata": {
        "colab": {
          "base_uri": "https://localhost:8080/"
        },
        "id": "v0e10BtfSurP",
        "outputId": "f0fa73e1-e967-43a3-9949-8e89dd4dab16"
      },
      "execution_count": null,
      "outputs": [
        {
          "output_type": "stream",
          "name": "stdout",
          "text": [
            "444\n"
          ]
        }
      ]
    },
    {
      "cell_type": "code",
      "source": [
        "substraction_result = second_number - first_number\n",
        "print(substraction_result)"
      ],
      "metadata": {
        "colab": {
          "base_uri": "https://localhost:8080/"
        },
        "id": "vTVwYTDcTYO_",
        "outputId": "f28a9c31-2021-470b-f957-3aa39383ab65"
      },
      "execution_count": null,
      "outputs": [
        {
          "output_type": "stream",
          "name": "stdout",
          "text": [
            "198\n"
          ]
        }
      ]
    },
    {
      "cell_type": "code",
      "source": [
        "multiply_result = first_number * second_number\n",
        "print(multiply_result)"
      ],
      "metadata": {
        "colab": {
          "base_uri": "https://localhost:8080/"
        },
        "id": "nUt_URcYTnU6",
        "outputId": "62202151-881a-4ba6-c3a1-03d3fde91735"
      },
      "execution_count": null,
      "outputs": [
        {
          "output_type": "stream",
          "name": "stdout",
          "text": [
            "39483\n"
          ]
        }
      ]
    },
    {
      "cell_type": "code",
      "source": [
        "first_number = 0.5321\n",
        "second_number = 0.003334\n",
        "division_result = first_number / second_number\n",
        "print(division_result)"
      ],
      "metadata": {
        "colab": {
          "base_uri": "https://localhost:8080/"
        },
        "id": "T0obyZaTTyQA",
        "outputId": "bb88a00d-bade-4c9b-92d6-a45a8228789d"
      },
      "execution_count": null,
      "outputs": [
        {
          "output_type": "stream",
          "name": "stdout",
          "text": [
            "159.59808038392322\n"
          ]
        }
      ]
    },
    {
      "cell_type": "code",
      "source": [
        "exponent_result = (first_number**second_number)\n",
        "print(exponent_result)"
      ],
      "metadata": {
        "colab": {
          "base_uri": "https://localhost:8080/"
        },
        "id": "d5isbyADUObk",
        "outputId": "5cadaa3f-012a-4267-c8f3-ddec77b602ce"
      },
      "execution_count": null,
      "outputs": [
        {
          "output_type": "stream",
          "name": "stdout",
          "text": [
            "0.9978987107320408\n"
          ]
        }
      ]
    },
    {
      "cell_type": "code",
      "source": [
        "print(addition_result)"
      ],
      "metadata": {
        "colab": {
          "base_uri": "https://localhost:8080/"
        },
        "id": "j6WKzPlzVGJK",
        "outputId": "cc0d3e75-96ba-4a3b-d21d-5eb0f0b2094e"
      },
      "execution_count": null,
      "outputs": [
        {
          "output_type": "stream",
          "name": "stdout",
          "text": [
            "444\n"
          ]
        }
      ]
    },
    {
      "cell_type": "code",
      "source": [
        "addition_result = first_number + second_number\n",
        "print(addition_result)"
      ],
      "metadata": {
        "colab": {
          "base_uri": "https://localhost:8080/"
        },
        "id": "3bD0nT21VDdG",
        "outputId": "a4b64172-ab58-445a-bac7-4490f04db40c"
      },
      "execution_count": null,
      "outputs": [
        {
          "output_type": "stream",
          "name": "stdout",
          "text": [
            "0.535434\n"
          ]
        }
      ]
    },
    {
      "cell_type": "code",
      "source": [
        "#conceptualy, this equation's result would be '1' as a remainder. But, its result is '1.0' as a remainder due to division of number.\n",
        "equation = ((4*2-4+54)+2**1/2)%2\n",
        "print(equation)"
      ],
      "metadata": {
        "colab": {
          "base_uri": "https://localhost:8080/"
        },
        "id": "GkhjGQz_Vfa0",
        "outputId": "ceb9a6c6-0e26-4441-f4eb-7d9ea3202f9d"
      },
      "execution_count": null,
      "outputs": [
        {
          "output_type": "stream",
          "name": "stdout",
          "text": [
            "1.0\n"
          ]
        }
      ]
    },
    {
      "cell_type": "code",
      "source": [
        "print(59%2)"
      ],
      "metadata": {
        "colab": {
          "base_uri": "https://localhost:8080/"
        },
        "id": "8OA5fCCdXh2Q",
        "outputId": "5ee1eb2a-979f-4a65-ce20-10c7e463870a"
      },
      "execution_count": null,
      "outputs": [
        {
          "output_type": "stream",
          "name": "stdout",
          "text": [
            "1\n"
          ]
        }
      ]
    },
    {
      "cell_type": "code",
      "source": [
        ""
      ],
      "metadata": {
        "id": "mkcq67eNZJ33"
      },
      "execution_count": null,
      "outputs": []
    },
    {
      "cell_type": "code",
      "source": [
        "print((58+1)%2)"
      ],
      "metadata": {
        "colab": {
          "base_uri": "https://localhost:8080/"
        },
        "id": "ig2W6URQZQ0l",
        "outputId": "0ac89858-f6fb-4a54-caf9-6b6cd083e0ad"
      },
      "execution_count": null,
      "outputs": [
        {
          "output_type": "stream",
          "name": "stdout",
          "text": [
            "1\n"
          ]
        }
      ]
    },
    {
      "cell_type": "code",
      "source": [
        "print(2/2)"
      ],
      "metadata": {
        "colab": {
          "base_uri": "https://localhost:8080/"
        },
        "id": "uimG4b2wZeUn",
        "outputId": "3e176be6-19cf-45d6-b556-08759f19a5c9"
      },
      "execution_count": null,
      "outputs": [
        {
          "output_type": "stream",
          "name": "stdout",
          "text": [
            "1.0\n"
          ]
        }
      ]
    },
    {
      "cell_type": "markdown",
      "source": [
        "print(1.33*3)"
      ],
      "metadata": {
        "id": "o0wn1BYaRqfo"
      }
    },
    {
      "cell_type": "code",
      "source": [
        "print(1.33*3)"
      ],
      "metadata": {
        "colab": {
          "base_uri": "https://localhost:8080/"
        },
        "id": "vMxAOufTd-1s",
        "outputId": "ae98f28e-553d-4cdc-ac52-4699203bfffd"
      },
      "execution_count": null,
      "outputs": [
        {
          "output_type": "stream",
          "name": "stdout",
          "text": [
            "3.99\n"
          ]
        }
      ]
    },
    {
      "cell_type": "code",
      "source": [
        "print(3*8)"
      ],
      "metadata": {
        "colab": {
          "base_uri": "https://localhost:8080/"
        },
        "id": "XNpxpGhDeCCE",
        "outputId": "6de3fbb4-3be6-4c93-a619-975cca878bcd"
      },
      "execution_count": null,
      "outputs": [
        {
          "output_type": "stream",
          "name": "stdout",
          "text": [
            "24\n"
          ]
        }
      ]
    },
    {
      "cell_type": "code",
      "source": [
        "print(-17+17)"
      ],
      "metadata": {
        "colab": {
          "base_uri": "https://localhost:8080/"
        },
        "id": "FFhREfPmeGaI",
        "outputId": "a2eab040-87d8-4ed1-eafd-c8b314e89042"
      },
      "execution_count": null,
      "outputs": [
        {
          "output_type": "stream",
          "name": "stdout",
          "text": [
            "0\n"
          ]
        }
      ]
    },
    {
      "cell_type": "code",
      "source": [
        "print(4/3)"
      ],
      "metadata": {
        "colab": {
          "base_uri": "https://localhost:8080/"
        },
        "id": "f_Z3ieQ-fVwE",
        "outputId": "f87b58d4-aac9-47ae-a7f7-2a2ca6bbf9dd"
      },
      "execution_count": null,
      "outputs": [
        {
          "output_type": "stream",
          "name": "stdout",
          "text": [
            "1.3333333333333333\n"
          ]
        }
      ]
    },
    {
      "cell_type": "code",
      "source": [
        "print(24*1.3333333333333333)"
      ],
      "metadata": {
        "colab": {
          "base_uri": "https://localhost:8080/"
        },
        "id": "DDVgjHMJfdim",
        "outputId": "517cda4e-bdbf-4e0b-af4d-97f0136e55c1"
      },
      "execution_count": null,
      "outputs": [
        {
          "output_type": "stream",
          "name": "stdout",
          "text": [
            "32.0\n"
          ]
        }
      ]
    },
    {
      "cell_type": "code",
      "source": [
        "print(2+25.333333333333332)"
      ],
      "metadata": {
        "colab": {
          "base_uri": "https://localhost:8080/"
        },
        "id": "dbwOezUWfl36",
        "outputId": "996e92b0-654a-4c39-add8-b2f309d7e085"
      },
      "execution_count": null,
      "outputs": [
        {
          "output_type": "stream",
          "name": "stdout",
          "text": [
            "27.333333333333332\n"
          ]
        }
      ]
    },
    {
      "cell_type": "code",
      "source": [
        "print(2+17-17+32.0)"
      ],
      "metadata": {
        "colab": {
          "base_uri": "https://localhost:8080/"
        },
        "id": "XecVW_gSfveU",
        "outputId": "074e1889-8dbc-485c-a264-f88123a0d7ff"
      },
      "execution_count": null,
      "outputs": [
        {
          "output_type": "stream",
          "name": "stdout",
          "text": [
            "34.0\n"
          ]
        }
      ]
    },
    {
      "cell_type": "code",
      "source": [
        "number = input(\"Enter a number = \")\n",
        "print(number)"
      ],
      "metadata": {
        "colab": {
          "base_uri": "https://localhost:8080/"
        },
        "id": "rLUr_JqDsV2y",
        "outputId": "9264ba49-7651-4c66-ecf3-f140a6df1203"
      },
      "execution_count": null,
      "outputs": [
        {
          "output_type": "stream",
          "name": "stdout",
          "text": [
            "Enter a number = 1\n",
            "1\n"
          ]
        }
      ]
    },
    {
      "cell_type": "code",
      "source": [
        "type(number)"
      ],
      "metadata": {
        "colab": {
          "base_uri": "https://localhost:8080/"
        },
        "id": "IyN901ddW6z2",
        "outputId": "3a676ea9-2b7f-4321-a1c3-2de58059540f"
      },
      "execution_count": null,
      "outputs": [
        {
          "output_type": "execute_result",
          "data": {
            "text/plain": [
              "str"
            ]
          },
          "metadata": {},
          "execution_count": 2
        }
      ]
    },
    {
      "cell_type": "code",
      "source": [
        "number = eval(input(\"Enter a number = \"))\n"
      ],
      "metadata": {
        "colab": {
          "base_uri": "https://localhost:8080/"
        },
        "id": "TJ8nx8U9XFHT",
        "outputId": "f1d72183-a4d7-4c55-ae74-2b54a82992ff"
      },
      "execution_count": null,
      "outputs": [
        {
          "name": "stdout",
          "output_type": "stream",
          "text": [
            "Enter a number = 1\n"
          ]
        }
      ]
    },
    {
      "cell_type": "code",
      "source": [
        "type(number)"
      ],
      "metadata": {
        "colab": {
          "base_uri": "https://localhost:8080/"
        },
        "id": "-uiInLcNXmlV",
        "outputId": "e9a076c8-f114-41df-a085-3447470b557f"
      },
      "execution_count": null,
      "outputs": [
        {
          "output_type": "execute_result",
          "data": {
            "text/plain": [
              "int"
            ]
          },
          "metadata": {},
          "execution_count": 4
        }
      ]
    },
    {
      "cell_type": "code",
      "source": [
        "number = eval(input(\"Enter a number = \"))"
      ],
      "metadata": {
        "colab": {
          "base_uri": "https://localhost:8080/"
        },
        "id": "PzYHHPS7XqU2",
        "outputId": "66e4ce40-a945-42d1-939d-762d4398f01b"
      },
      "execution_count": null,
      "outputs": [
        {
          "name": "stdout",
          "output_type": "stream",
          "text": [
            "Enter a number = 1.1\n"
          ]
        }
      ]
    },
    {
      "cell_type": "code",
      "source": [
        "type(number)"
      ],
      "metadata": {
        "colab": {
          "base_uri": "https://localhost:8080/"
        },
        "id": "fOzz45d2XwwM",
        "outputId": "ff16dabb-57bd-4f3b-af22-388e25f82c0b"
      },
      "execution_count": null,
      "outputs": [
        {
          "output_type": "execute_result",
          "data": {
            "text/plain": [
              "float"
            ]
          },
          "metadata": {},
          "execution_count": 6
        }
      ]
    },
    {
      "cell_type": "code",
      "source": [
        "give_input = eval(input(\"Enter a number = \"))"
      ],
      "metadata": {
        "colab": {
          "base_uri": "https://localhost:8080/"
        },
        "id": "Vr840xd4X-ce",
        "outputId": "160a3b02-9055-4542-e3c4-4589fffe08a1"
      },
      "execution_count": null,
      "outputs": [
        {
          "name": "stdout",
          "output_type": "stream",
          "text": [
            "Enter a number = \"this is testing\"\n"
          ]
        }
      ]
    },
    {
      "cell_type": "code",
      "source": [
        "type(give_input)"
      ],
      "metadata": {
        "colab": {
          "base_uri": "https://localhost:8080/"
        },
        "id": "7D5TOv10YMJN",
        "outputId": "90f1ed60-f55e-4154-92d4-163cee68c35f"
      },
      "execution_count": null,
      "outputs": [
        {
          "output_type": "execute_result",
          "data": {
            "text/plain": [
              "str"
            ]
          },
          "metadata": {},
          "execution_count": 9
        }
      ]
    },
    {
      "cell_type": "code",
      "source": [
        "give_input = eval(input(\"Enter a number = \"))"
      ],
      "metadata": {
        "colab": {
          "base_uri": "https://localhost:8080/"
        },
        "id": "ZHutfOIRYS5L",
        "outputId": "7556ca9a-f72a-40d8-80ab-24c8746eb998"
      },
      "execution_count": null,
      "outputs": [
        {
          "name": "stdout",
          "output_type": "stream",
          "text": [
            "Enter a number = 234\n"
          ]
        }
      ]
    },
    {
      "cell_type": "code",
      "source": [
        "lets_try_list = ((1, \"First\"),(2, \"second\"), (3, \"third\"))\n",
        "print(lets_try_list)"
      ],
      "metadata": {
        "colab": {
          "base_uri": "https://localhost:8080/"
        },
        "id": "DkM-xkwXY-gv",
        "outputId": "2d011886-cd3f-434a-d7c2-cfbc967eeb7d"
      },
      "execution_count": null,
      "outputs": [
        {
          "output_type": "stream",
          "name": "stdout",
          "text": [
            "((1, 'First'), (2, 'second'), (3, 'third'))\n"
          ]
        }
      ]
    },
    {
      "cell_type": "code",
      "source": [
        "type(lets_try_list)"
      ],
      "metadata": {
        "colab": {
          "base_uri": "https://localhost:8080/"
        },
        "id": "9om-PuKpZSsr",
        "outputId": "5e60faa8-b86c-409b-a5e1-949717f4a462"
      },
      "execution_count": null,
      "outputs": [
        {
          "output_type": "execute_result",
          "data": {
            "text/plain": [
              "tuple"
            ]
          },
          "metadata": {},
          "execution_count": 21
        }
      ]
    },
    {
      "cell_type": "code",
      "source": [
        "lets_try_list = {(1, \"First\"),(2, \"second\"), (3, \"third\")}\n",
        "print(lets_try_list)"
      ],
      "metadata": {
        "colab": {
          "base_uri": "https://localhost:8080/"
        },
        "id": "I1NkpSI-Z18y",
        "outputId": "c5e452de-7c30-4f18-f084-3ae6906e1ab8"
      },
      "execution_count": null,
      "outputs": [
        {
          "output_type": "stream",
          "name": "stdout",
          "text": [
            "{(3, 'third'), (2, 'second'), (1, 'First')}\n"
          ]
        }
      ]
    },
    {
      "cell_type": "code",
      "source": [
        "type(lets_try_list)"
      ],
      "metadata": {
        "colab": {
          "base_uri": "https://localhost:8080/"
        },
        "id": "dUhcwGMMZ6hW",
        "outputId": "92ab4253-0b1f-4057-d161-628bc3379c35"
      },
      "execution_count": null,
      "outputs": [
        {
          "output_type": "execute_result",
          "data": {
            "text/plain": [
              "set"
            ]
          },
          "metadata": {},
          "execution_count": 23
        }
      ]
    },
    {
      "cell_type": "code",
      "source": [
        "lets_try_list = [(1, \"First\"),(2, \"second\"), (3, \"third\")]\n",
        "print(lets_try_list)"
      ],
      "metadata": {
        "colab": {
          "base_uri": "https://localhost:8080/"
        },
        "id": "_pjJDN7AYpx_",
        "outputId": "d18e4155-7e9a-4f97-e209-5092867bb2b6"
      },
      "execution_count": null,
      "outputs": [
        {
          "output_type": "stream",
          "name": "stdout",
          "text": [
            "[(1, 'First'), (2, 'second'), (3, 'third')]\n"
          ]
        }
      ]
    },
    {
      "cell_type": "code",
      "source": [
        "type(lets_try_list)"
      ],
      "metadata": {
        "colab": {
          "base_uri": "https://localhost:8080/"
        },
        "id": "lKhl-O-GaGhp",
        "outputId": "99d56e70-8534-4bbc-9b25-d1254fcd3d70"
      },
      "execution_count": null,
      "outputs": [
        {
          "output_type": "execute_result",
          "data": {
            "text/plain": [
              "list"
            ]
          },
          "metadata": {},
          "execution_count": 25
        }
      ]
    },
    {
      "cell_type": "markdown",
      "source": [
        "Choatic funtion for check behavior"
      ],
      "metadata": {
        "id": "ulElzsjHbhUm"
      }
    },
    {
      "cell_type": "code",
      "source": [
        "number = eval(input(\"Enter a value =\"))\n",
        "for i in range(10):\n",
        "    number = 3.9 * number * (1 - number)\n",
        "    print(number)"
      ],
      "metadata": {
        "colab": {
          "base_uri": "https://localhost:8080/"
        },
        "id": "2xDMVSDbaKSU",
        "outputId": "d42e6840-dca6-4ef2-c5e6-d43b5fb96be5"
      },
      "execution_count": null,
      "outputs": [
        {
          "output_type": "stream",
          "name": "stdout",
          "text": [
            "Enter a value =0.1\n",
            "0.35100000000000003\n",
            "0.8884161\n",
            "0.3866184397170808\n",
            "0.9248640249724619\n",
            "0.2710131851083772\n",
            "0.7705036505625796\n",
            "0.6896283226260395\n",
            "0.8347602871063352\n",
            "0.5379486456882877\n",
            "0.9693836111326567\n"
          ]
        }
      ]
    },
    {
      "cell_type": "code",
      "source": [
        "#I learned how to Bitwise transactions by left_bitwise and right_bitwise as a logicaly and arithmeticaly.\n",
        "# Its done on bitwise calculator."
      ],
      "metadata": {
        "id": "MxP5ut1xsKwY"
      },
      "execution_count": null,
      "outputs": []
    },
    {
      "cell_type": "code",
      "source": [
        "# I learned how add, substract, multiply and division.\n",
        "first_number = 34\n",
        "second_number = 43\n",
        "add_result = first_number + second_number\n",
        "print(add_result)\n",
        "substraction_result = first_number - second_number\n",
        "print(substraction_result)\n",
        "multiply_result = first_number * second_number\n",
        "print(multiply_result)\n",
        "division_result = second_number/first_number\n",
        "print(division_result)"
      ],
      "metadata": {
        "colab": {
          "base_uri": "https://localhost:8080/"
        },
        "id": "r2kvQNqMtF_q",
        "outputId": "ad647054-9ce9-4756-ffc7-2fbc74480878"
      },
      "execution_count": 2,
      "outputs": [
        {
          "output_type": "stream",
          "name": "stdout",
          "text": [
            "77\n",
            "-9\n",
            "1462\n",
            "1.2647058823529411\n"
          ]
        }
      ]
    },
    {
      "cell_type": "code",
      "source": [
        "#I learned how to exicuted equations and also learned uncertainity with some number with floating points.\n",
        "equation = ((4*2-4+54)+2**1/2)%2\n",
        "print(equation)"
      ],
      "metadata": {
        "colab": {
          "base_uri": "https://localhost:8080/"
        },
        "id": "A5MHC16UuigI",
        "outputId": "1374005b-1f96-45ee-8fd1-de3ff97c6ad4"
      },
      "execution_count": 3,
      "outputs": [
        {
          "output_type": "stream",
          "name": "stdout",
          "text": [
            "1.0\n"
          ]
        }
      ]
    },
    {
      "cell_type": "code",
      "source": [
        "#I learned how to import math library and exicted a math function.\n",
        "import math\n",
        "number = math.sqrt(49)\n",
        "print(number)"
      ],
      "metadata": {
        "colab": {
          "base_uri": "https://localhost:8080/"
        },
        "id": "tBwsKGIkvF-8",
        "outputId": "8651d48c-d5d1-480f-9f0f-f447e8d219fc"
      },
      "execution_count": 4,
      "outputs": [
        {
          "output_type": "stream",
          "name": "stdout",
          "text": [
            "7.0\n"
          ]
        }
      ]
    },
    {
      "cell_type": "code",
      "source": [
        "#I learned how to coments the code for understanding code for others."
      ],
      "metadata": {
        "id": "zjv_FAtQvtb9"
      },
      "execution_count": null,
      "outputs": []
    }
  ]
}